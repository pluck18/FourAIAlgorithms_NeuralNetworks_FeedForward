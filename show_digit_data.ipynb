{
 "cells": [
  {
   "cell_type": "markdown",
   "id": "cc0afe73",
   "metadata": {},
   "source": [
    "# show_digit_data\n",
    "Draw the data in digit_data.txt."
   ]
  },
  {
   "cell_type": "code",
   "execution_count": 38,
   "id": "04918e69",
   "metadata": {},
   "outputs": [],
   "source": [
    "import tkinter as tk"
   ]
  },
  {
   "cell_type": "code",
   "execution_count": 43,
   "id": "47a93e74",
   "metadata": {},
   "outputs": [],
   "source": [
    "from functools import partial\n",
    "\n",
    "# Geometry constants.\n",
    "NUM_COLS = 20\n",
    "NUM_ROWS = 10\n",
    "NUM_X_PIX = 6\n",
    "NUM_Y_PIX = 8\n",
    "PIX_SIZE = 2\n",
    "MARGIN = 5\n",
    "CELL_WID = NUM_X_PIX * PIX_SIZE\n",
    "CELL_HGT = NUM_Y_PIX * PIX_SIZE\n",
    "CANVAS_WID = NUM_COLS * CELL_WID + (NUM_COLS - 1) * MARGIN\n",
    "CANVAS_HGT = NUM_ROWS * CELL_HGT + (NUM_ROWS - 1) * MARGIN\n",
    "WINDOW_WID = CANVAS_WID + 2 * MARGIN\n",
    "WINDOW_HGT = CANVAS_HGT + 2 * MARGIN\n",
    "\n",
    "class App:\n",
    "    # Create and manage the tkinter interface.\n",
    "    def __init__(self):\n",
    "        self.network = None\n",
    "\n",
    "        # Build the UI.\n",
    "        self.build_ui()\n",
    "\n",
    "        # Display the window.\n",
    "        self.window.focus_force()\n",
    "        self.window.mainloop()\n",
    "\n",
    "    def build_ui(self):\n",
    "        # Make the main interface.\n",
    "        self.window = tk.Tk()\n",
    "        self.window.title('show_digit_data')\n",
    "        self.window.protocol('WM_DELETE_WINDOW', self.kill_callback)\n",
    "        self.window.geometry(f'{WINDOW_WID}x{WINDOW_HGT}')\n",
    "\n",
    "        # Make the drawing canvas.\n",
    "        self.canvas = tk.Canvas(self.window, bg='white',\n",
    "            borderwidth=0, highlightthickness=0, relief=tk.SUNKEN,\n",
    "            width=CANVAS_WID, height=CANVAS_HGT)\n",
    "        self.canvas.pack(side=tk.LEFT, padx=MARGIN, pady=MARGIN)\n",
    "\n",
    "        # Load data.\n",
    "        with open('digit_data.txt', 'r') as f:\n",
    "            lines = f.readlines()\n",
    "\n",
    "        line_num = 0\n",
    "        y = 0\n",
    "        for row in range(NUM_ROWS):\n",
    "            x = 0\n",
    "            for col in range(NUM_COLS):\n",
    "                i = row * NUM_COLS + col\n",
    "                data = lines[i].split()[1]\n",
    "                self.draw_digit(data, x, y)\n",
    "                x += CELL_WID + MARGIN\n",
    "            y += CELL_HGT + MARGIN\n",
    "\n",
    "    def draw_digit(self, data, x0, y0):\n",
    "        i = 0\n",
    "        x = x0\n",
    "        y = y0\n",
    "        for letter in data:\n",
    "            if letter == '1':\n",
    "                self.canvas.create_rectangle(x, y, x + PIX_SIZE, y + PIX_SIZE, fill='black')\n",
    "            i += 1\n",
    "            x += PIX_SIZE\n",
    "            if i % NUM_X_PIX == 0:\n",
    "                x = x0\n",
    "                y += PIX_SIZE\n",
    "\n",
    "    def kill_callback(self):\n",
    "        self.window.destroy()"
   ]
  },
  {
   "cell_type": "code",
   "execution_count": 44,
   "id": "68bced29",
   "metadata": {
    "scrolled": true
   },
   "outputs": [
    {
     "data": {
      "text/plain": [
       "<__main__.App at 0x2773691aa60>"
      ]
     },
     "execution_count": 44,
     "metadata": {},
     "output_type": "execute_result"
    }
   ],
   "source": [
    "App()"
   ]
  },
  {
   "cell_type": "code",
   "execution_count": null,
   "id": "556a661a",
   "metadata": {},
   "outputs": [],
   "source": []
  }
 ],
 "metadata": {
  "kernelspec": {
   "display_name": "Python 3 (ipykernel)",
   "language": "python",
   "name": "python3"
  },
  "language_info": {
   "codemirror_mode": {
    "name": "ipython",
    "version": 3
   },
   "file_extension": ".py",
   "mimetype": "text/x-python",
   "name": "python",
   "nbconvert_exporter": "python",
   "pygments_lexer": "ipython3",
   "version": "3.9.7"
  }
 },
 "nbformat": 4,
 "nbformat_minor": 5
}
